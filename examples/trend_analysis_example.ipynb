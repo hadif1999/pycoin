{
  "cells": [
    {
      "cell_type": "markdown",
      "metadata": {
        "id": "view-in-github",
        "colab_type": "text"
      },
      "source": [
        "<a href=\"https://colab.research.google.com/github/hadif1999/pycoin/blob/master/examples/trend_analysis_example.ipynb\" target=\"_parent\"><img src=\"https://colab.research.google.com/assets/colab-badge.svg\" alt=\"Open In Colab\"/></a>"
      ]
    },
    {
      "cell_type": "markdown",
      "source": [
        "## installation (run cells in this section if you're in colab)"
      ],
      "metadata": {
        "id": "W1C-JBbntHBw"
      }
    },
    {
      "cell_type": "code",
      "source": [
        "!pip install -q condacolab\n",
        "import condacolab\n",
        "condacolab.install()\n",
        "!conda update -n base -c conda-forge conda\n",
        "!conda install -c conda-forge ta-lib"
      ],
      "metadata": {
        "id": "0kJZu_JOtMeg"
      },
      "execution_count": null,
      "outputs": []
    },
    {
      "cell_type": "code",
      "source": [
        "# !pip install -e git+https://github.com/hadif1999/pycoin.git#egg=\"pythoncoin[plot]\"\n",
        "!pip3 install \"pythoncoin[plot]\""
      ],
      "metadata": {
        "id": "yuLoGjaYtYNS"
      },
      "execution_count": null,
      "outputs": []
    },
    {
      "cell_type": "markdown",
      "metadata": {
        "id": "jWKhoHILtDsu"
      },
      "source": [
        "## Downloading Historical OHLCV Data"
      ]
    },
    {
      "cell_type": "code",
      "execution_count": null,
      "metadata": {
        "id": "cxFpBmX0tDs2"
      },
      "outputs": [],
      "source": [
        "from pycoin.data_gathering import KlineData_Fetcher\n",
        "import datetime as dt\n",
        "\n",
        "df = KlineData_Fetcher(symbol=\"BTC/USDT\",\n",
        "                       timeframe=\"4h\",\n",
        "                       data_exchange=\"bingx\",\n",
        "                       since = dt.datetime(2020, 1, 1)\n",
        "                       )"
      ]
    },
    {
      "cell_type": "markdown",
      "metadata": {
        "id": "4FfnEODrtDs-"
      },
      "source": [
        "## Plotting Market"
      ]
    },
    {
      "cell_type": "code",
      "execution_count": 5,
      "metadata": {
        "id": "1KqEPWhdtDtA"
      },
      "outputs": [],
      "source": [
        "from pycoin.plotting import Market_Plotter\n",
        "\n",
        "plots = Market_Plotter(OHLCV_df=df)"
      ]
    },
    {
      "cell_type": "code",
      "execution_count": null,
      "metadata": {
        "id": "p0vcNLOVtDtB"
      },
      "outputs": [],
      "source": [
        "plots.plot_market(plot_by_grp=False, grp={\"year\":2024, \"month\":2})"
      ]
    },
    {
      "cell_type": "markdown",
      "metadata": {
        "id": "AhtdM3qttDtF"
      },
      "source": [
        "## trend analysis"
      ]
    },
    {
      "cell_type": "markdown",
      "metadata": {
        "id": "3tljBSEZtDtH"
      },
      "source": [
        "#### evaluating past high and lows"
      ]
    },
    {
      "cell_type": "code",
      "execution_count": null,
      "metadata": {
        "id": "_18j2tiQtDtK"
      },
      "outputs": [],
      "source": [
        "from pycoin.data_gathering import get_market_High_Lows, Trend_Evaluator\n",
        "\n",
        "df = get_market_High_Lows(df, candle_range = 100)\n",
        "df"
      ]
    },
    {
      "cell_type": "markdown",
      "metadata": {
        "id": "IE3FHGiLtDtM"
      },
      "source": [
        "#### finding trend using past high and lows"
      ]
    },
    {
      "cell_type": "code",
      "execution_count": null,
      "metadata": {
        "id": "TRpvSptytDtO"
      },
      "outputs": [],
      "source": [
        "df = Trend_Evaluator.eval_trend_with_high_lows(df, HighLow_range=4000)\n",
        "df"
      ]
    },
    {
      "cell_type": "markdown",
      "metadata": {
        "id": "ge5MnDtftDtQ"
      },
      "source": [
        "#### ploting high,low trend"
      ]
    },
    {
      "cell_type": "code",
      "execution_count": null,
      "metadata": {
        "id": "gGATPV9ytDtR"
      },
      "outputs": [],
      "source": [
        "plots.draw_trend_highlight(\"high_low_trend\", df,\n",
        "                           add_high_lows_shapes = True,\n",
        "                           R = 10000, # circle size of high and lows\n",
        "                           y_scale = 0.1 # scales y dim of circles\n",
        "                           )"
      ]
    },
    {
      "cell_type": "markdown",
      "metadata": {
        "id": "XnrDxshGtDtS"
      },
      "source": [
        "#### evaluating Trend using MACD and signal line"
      ]
    },
    {
      "cell_type": "code",
      "execution_count": null,
      "metadata": {
        "id": "7kA9iYehtDtS"
      },
      "outputs": [],
      "source": [
        "df = Trend_Evaluator.eval_trend_with_MACD(df, window_slow=26,\n",
        "                                          window_fast = 12, window_sign = 9,\n",
        "                                          drop_MACD_col = True)\n",
        "df"
      ]
    },
    {
      "cell_type": "markdown",
      "metadata": {
        "id": "QBIp5jEztDtT"
      },
      "source": [
        "#### ploting MACD trend"
      ]
    },
    {
      "cell_type": "code",
      "execution_count": null,
      "metadata": {
        "id": "PQddLITbtDtT"
      },
      "outputs": [],
      "source": [
        "plots.draw_trend_highlight(\"MACD_trend\", df)"
      ]
    },
    {
      "cell_type": "markdown",
      "metadata": {
        "id": "yCA7XJo8tDtT"
      },
      "source": [
        "### evaluating trend using SMA"
      ]
    },
    {
      "cell_type": "code",
      "execution_count": null,
      "metadata": {
        "id": "Q5PXP-z9tDtU"
      },
      "outputs": [],
      "source": [
        "df = Trend_Evaluator.eval_trend_with_MAs(df, windows=[50, 200], drop_MA_cols = True)\n",
        "df"
      ]
    },
    {
      "cell_type": "code",
      "execution_count": null,
      "metadata": {
        "id": "rpvnDiP-tDtV"
      },
      "outputs": [],
      "source": [
        "plots.draw_trend_highlight(\"MA_trend\", df)"
      ]
    }
  ],
  "metadata": {
    "kernelspec": {
      "display_name": "venv",
      "language": "python",
      "name": "python3"
    },
    "language_info": {
      "codemirror_mode": {
        "name": "ipython",
        "version": 3
      },
      "file_extension": ".py",
      "mimetype": "text/x-python",
      "name": "python",
      "nbconvert_exporter": "python",
      "pygments_lexer": "ipython3",
      "version": "3.10.12"
    },
    "colab": {
      "provenance": [],
      "include_colab_link": true
    }
  },
  "nbformat": 4,
  "nbformat_minor": 0
}