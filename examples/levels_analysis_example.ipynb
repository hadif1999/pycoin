{
  "cells": [
    {
      "cell_type": "markdown",
      "metadata": {
        "id": "view-in-github",
        "colab_type": "text"
      },
      "source": [
        "<a href=\"https://colab.research.google.com/github/hadif1999/pycoin/blob/master/examples/levels_analysis_example.ipynb\" target=\"_parent\"><img src=\"https://colab.research.google.com/assets/colab-badge.svg\" alt=\"Open In Colab\"/></a>"
      ]
    },
    {
      "cell_type": "markdown",
      "source": [
        "## installation (run cells in this section if you're in colab)"
      ],
      "metadata": {
        "id": "W1C-JBbntHBw"
      }
    },
    {
      "cell_type": "code",
      "source": [
        "!pip install -q condacolab\n",
        "import condacolab\n",
        "condacolab.install()\n",
        "!conda update -n base -c conda-forge conda\n",
        "!conda install -c conda-forge ta-lib"
      ],
      "metadata": {
        "id": "0kJZu_JOtMeg"
      },
      "execution_count": null,
      "outputs": []
    },
    {
      "cell_type": "code",
      "source": [
        "# !pip install -e git+https://github.com/hadif1999/pycoin.git#egg=\"pythoncoin[plot]\"\n",
        "!pip3 install \"pythoncoin[plot]\""
      ],
      "metadata": {
        "id": "yuLoGjaYtYNS"
      },
      "execution_count": null,
      "outputs": []
    },
    {
      "cell_type": "markdown",
      "metadata": {
        "id": "RP-kNDxf2dwd"
      },
      "source": [
        "## level based strategy definition\n",
        "this is the base class for Level based trading strategies.\n",
        "you can easily make a new strategy class by inheriting from it."
      ]
    },
    {
      "cell_type": "code",
      "execution_count": null,
      "metadata": {
        "id": "ru1Sxh0j2dwf"
      },
      "outputs": [],
      "source": [
        "from pycoin.strategies.level_based_strategies import _Levels\n",
        "import datetime as dt\n",
        "\n",
        "levels = _Levels(data_exchange = \"binance\", symbol = \"BTC/USDT\",\n",
        "                 interval = \"1h\", start_time = dt.datetime(2024,1,1),\n",
        "                 PivotsType = \"weekly\") # pivot can be weekly or monthly\n",
        "\n",
        "levels.update_data\n",
        "levels.update_pivots\n"
      ]
    },
    {
      "cell_type": "markdown",
      "metadata": {
        "id": "_Nj1rehD2dwh"
      },
      "source": [
        "### getting calculated weekly and monthly pivots"
      ]
    },
    {
      "cell_type": "code",
      "execution_count": null,
      "metadata": {
        "id": "UotMBfHp2dwi"
      },
      "outputs": [],
      "source": [
        "levels.Pivots[\"weekly\"], levels.Pivots[\"monthly\"]"
      ]
    },
    {
      "cell_type": "markdown",
      "metadata": {
        "id": "mv83Mg1V2dwi"
      },
      "source": [
        "### calculating and ploting fractal levels"
      ]
    },
    {
      "cell_type": "code",
      "execution_count": null,
      "metadata": {
        "id": "-Epwh8G-2dwi"
      },
      "outputs": [],
      "source": [
        "levels.eval_fract_levels(candle_ranges = range(50, 200, 40), # window size for evaluating high and lows\n",
        "                         tolerance_percent=1e-9, # a tolerance to specify how much accurate touches must be\n",
        "                         min_occurred=3) # number of touches"
      ]
    },
    {
      "cell_type": "code",
      "execution_count": null,
      "metadata": {
        "id": "aV9OSeg_2dwi"
      },
      "outputs": [],
      "source": [
        "levels.plot_fracts()"
      ]
    },
    {
      "cell_type": "code",
      "execution_count": null,
      "metadata": {
        "id": "31K0s1Nq2dwj"
      },
      "outputs": [],
      "source": [
        "levels.plot_Pivots()"
      ]
    }
  ],
  "metadata": {
    "kernelspec": {
      "display_name": "venv",
      "language": "python",
      "name": "python3"
    },
    "language_info": {
      "codemirror_mode": {
        "name": "ipython",
        "version": 3
      },
      "file_extension": ".py",
      "mimetype": "text/x-python",
      "name": "python",
      "nbconvert_exporter": "python",
      "pygments_lexer": "ipython3",
      "version": "3.10.12"
    },
    "colab": {
      "provenance": [],
      "include_colab_link": true
    }
  },
  "nbformat": 4,
  "nbformat_minor": 0
}