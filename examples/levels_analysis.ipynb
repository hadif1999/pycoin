{
 "cells": [
  {
   "cell_type": "markdown",
   "metadata": {},
   "source": [
    "## level based strategy definition"
   ]
  },
  {
   "cell_type": "code",
   "execution_count": null,
   "metadata": {},
   "outputs": [],
   "source": [
    "from pycoin.strategies.level_based_strategies import _Levels\n",
    "import datetime as dt\n",
    "\n",
    "levels = _Levels(data_exchange = \"binance\", symbol = \"BTC/USDT\",\n",
    "                 interval = \"1h\", start_time = dt.datetime(2024,1,1), \n",
    "                 PivotsType = \"weekly\") # pivot can be weekly or monthly\n",
    "\n",
    "levels.update_data\n",
    "levels.update_pivots\n"
   ]
  },
  {
   "cell_type": "markdown",
   "metadata": {},
   "source": [
    "### getting calculated weekly and monthly pivots"
   ]
  },
  {
   "cell_type": "code",
   "execution_count": null,
   "metadata": {},
   "outputs": [],
   "source": [
    "levels.Pivots[\"weekly\"], levels.Pivots[\"monthly\"]"
   ]
  },
  {
   "cell_type": "markdown",
   "metadata": {},
   "source": [
    "### calculating and ploting fractal levels"
   ]
  },
  {
   "cell_type": "code",
   "execution_count": null,
   "metadata": {},
   "outputs": [],
   "source": [
    "levels.eval_fract_levels(candle_ranges = range(50, 200, 40), # window size for evaluating high and lows\n",
    "                         tolerance_percent=1e-9, # a tolerance to specify how much accurate touches must be \n",
    "                         min_occurred=3) # number of touches"
   ]
  },
  {
   "cell_type": "code",
   "execution_count": null,
   "metadata": {},
   "outputs": [],
   "source": [
    "levels.plot_fracts()"
   ]
  },
  {
   "cell_type": "code",
   "execution_count": null,
   "metadata": {},
   "outputs": [],
   "source": [
    "levels.plot_Pivots()"
   ]
  }
 ],
 "metadata": {
  "kernelspec": {
   "display_name": "venv",
   "language": "python",
   "name": "python3"
  },
  "language_info": {
   "codemirror_mode": {
    "name": "ipython",
    "version": 3
   },
   "file_extension": ".py",
   "mimetype": "text/x-python",
   "name": "python",
   "nbconvert_exporter": "python",
   "pygments_lexer": "ipython3",
   "version": "3.10.12"
  }
 },
 "nbformat": 4,
 "nbformat_minor": 2
}
